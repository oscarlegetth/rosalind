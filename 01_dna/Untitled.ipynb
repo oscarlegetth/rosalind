{
 "cells": [
  {
   "cell_type": "code",
   "execution_count": 32,
   "metadata": {},
   "outputs": [
    {
     "name": "stdout",
     "output_type": "stream",
     "text": [
      "248 219 261 245\n"
     ]
    }
   ],
   "source": [
    "input_file = open(\"rosalind_dna.txt\", \"r\")\n",
    "line = input_file.readline()\n",
    "# print(line)\n",
    "hist = {\"A\" : 0,\n",
    "       \"C\" : 0,\n",
    "       \"G\" : 0,\n",
    "       \"T\" : 0\n",
    "       }\n",
    "for char in line[:-1]:\n",
    "    hist[char] += 1\n",
    "print(\"%d %d %d %d\" % (hist[\"A\"], hist[\"C\"], hist[\"G\"], hist[\"T\"]))\n",
    "input_file.close()"
   ]
  },
  {
   "cell_type": "code",
   "execution_count": 13,
   "metadata": {},
   "outputs": [
    {
     "name": "stdout",
     "output_type": "stream",
     "text": [
      "2\n"
     ]
    }
   ],
   "source": []
  },
  {
   "cell_type": "code",
   "execution_count": null,
   "metadata": {},
   "outputs": [],
   "source": []
  }
 ],
 "metadata": {
  "kernelspec": {
   "display_name": "Python 3",
   "language": "python",
   "name": "python3"
  },
  "language_info": {
   "codemirror_mode": {
    "name": "ipython",
    "version": 3
   },
   "file_extension": ".py",
   "mimetype": "text/x-python",
   "name": "python",
   "nbconvert_exporter": "python",
   "pygments_lexer": "ipython3",
   "version": "3.7.1"
  }
 },
 "nbformat": 4,
 "nbformat_minor": 2
}
