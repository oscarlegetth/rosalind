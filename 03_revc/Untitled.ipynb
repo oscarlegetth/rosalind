{
 "cells": [
  {
   "cell_type": "code",
   "execution_count": 12,
   "metadata": {},
   "outputs": [
    {
     "name": "stdout",
     "output_type": "stream",
     "text": [
      "AGAAGACGAACGGGCGGGGTGGGTCCGGCATATTGCGCAAGGACAACCTTTTTAAATATATGGGGCGGAGGGTAATAACCAGATGAGAAGTAGCTACACAACGAGGGCTTCATAGCCATTTACGCCCGAGCAAGGTTGCTACCTACCATCGGGGCCATCATCCTACGCCTGCTGCAGGCTCGCCAATCATCTCTCTGTACCGCCGCTCGTATGCTTGTTCCAGGGGGATCCTACCCGGTTGGTGCTCGGAAGTCACGATCTGCCGCTGTACGCGCCGTTTCGCTGACGACTATGCCTTGGGTTCCGGGACGCGCTGATTCTACGCCATGGCCAAGCCGGATTACTGCTCAGTACGGCGAGTAGATCAGAGTTACGCGACCTACAAATGTCAAGGACCTTAGCACACATAACCTGGCTGCAGCCTGACAATCGACATGATACTTCCGTTGCATGAGTTAGGACTGGAAATCATCATCTGCAAACCTCCGTTCATACCCAGGTCCAGCGCATGTCTTCGGACTTCGTTGAAGGCCAGAAGGTTGATATTTTCAATAAGCTGAAGAAATTAAGAAGGAAAGGCGGCCGTTTAAGTAGTGGTATTGATTTAGACCGAAGAGTATAGTTCCACTTCCTCAAATCAGTAATGTCGACCACCTTGATTATCTTAATTACACCTATCGGTTTCATCACACCGCAATATGCTGACGGCCCAGCCGACCGGCGTAAATGGGCGCTCATAGTCATTTATCTGTGGAGGGTGGGCAATATCTTAGGATGCCTCTTGATAATGACTGGGGGTAGGGTGTTTTGCAAGAGACAAGGTAGATGGCACCTCTTCAGTTCTCGTGCTCCAGATGTGTCAGCTCCAGCGAGTTATTCTTTCTCTTTGATCGAGCTGCTCCGTATGAGCTATTAGCAGGATATACAAGCACAAAATAAATCCCGGACGCGGGGATCGCTC\n"
     ]
    }
   ],
   "source": [
    "input_file = open(\"rosalind_revc.txt\", \"r\")\n",
    "line = input_file.readline()\n",
    "compliment = []\n",
    "for char in line[:-1]:\n",
    "    if (char == \"A\"):\n",
    "        char = \"T\"\n",
    "    elif (char == \"T\"):\n",
    "        char = \"A\"\n",
    "    elif (char == \"G\"):\n",
    "        char = \"C\"\n",
    "    elif (char == \"C\"):\n",
    "        char = \"G\"\n",
    "    compliment.append(char)\n",
    "result = ''.join(compliment[::-1])\n",
    "print(result)"
   ]
  },
  {
   "cell_type": "code",
   "execution_count": null,
   "metadata": {},
   "outputs": [],
   "source": []
  }
 ],
 "metadata": {
  "kernelspec": {
   "display_name": "Python 3",
   "language": "python",
   "name": "python3"
  },
  "language_info": {
   "codemirror_mode": {
    "name": "ipython",
    "version": 3
   },
   "file_extension": ".py",
   "mimetype": "text/x-python",
   "name": "python",
   "nbconvert_exporter": "python",
   "pygments_lexer": "ipython3",
   "version": "3.7.1"
  }
 },
 "nbformat": 4,
 "nbformat_minor": 2
}
