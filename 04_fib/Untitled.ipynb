{
 "cells": [
  {
   "cell_type": "code",
   "execution_count": 19,
   "metadata": {},
   "outputs": [
    {
     "name": "stdout",
     "output_type": "stream",
     "text": [
      "2863396842201\n"
     ]
    }
   ],
   "source": [
    "input_file = open(\"rosalind_fib.txt\", \"r\")\n",
    "line = input_file.readline()\n",
    "words = line.split(\" \")\n",
    "\n",
    "f_n1 = 1\n",
    "f_n2 = 0\n",
    "n = int(words[0])\n",
    "k = int(words[1])\n",
    "\n",
    "for i in range(1, n):\n",
    "    f_n = f_n1 + f_n2 * k\n",
    "    f_n2 = f_n1\n",
    "    f_n1 = f_n\n",
    "\n",
    "print(f_n)"
   ]
  },
  {
   "cell_type": "code",
   "execution_count": null,
   "metadata": {},
   "outputs": [],
   "source": []
  }
 ],
 "metadata": {
  "kernelspec": {
   "display_name": "Python 3",
   "language": "python",
   "name": "python3"
  },
  "language_info": {
   "codemirror_mode": {
    "name": "ipython",
    "version": 3
   },
   "file_extension": ".py",
   "mimetype": "text/x-python",
   "name": "python",
   "nbconvert_exporter": "python",
   "pygments_lexer": "ipython3",
   "version": "3.7.1"
  }
 },
 "nbformat": 4,
 "nbformat_minor": 2
}
