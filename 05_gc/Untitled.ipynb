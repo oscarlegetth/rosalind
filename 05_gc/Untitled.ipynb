{
 "cells": [
  {
   "cell_type": "code",
   "execution_count": 33,
   "metadata": {},
   "outputs": [
    {
     "name": "stdout",
     "output_type": "stream",
     "text": [
      "Rosalind_8290\n",
      "54.185022\n"
     ]
    }
   ],
   "source": [
    "def process(id, dna):\n",
    "    gc = 0\n",
    "    for char in dna:\n",
    "        if (char in \"GC\"):\n",
    "            gc += 1\n",
    "    gc /= len(dna)\n",
    "    return id, gc\n",
    "\n",
    "file = open(\"rosalind_gc.txt\", \"r\")\n",
    "id = \"\"\n",
    "dna = \"\"\n",
    "gc_list = []\n",
    "for line in file:\n",
    "    if (line[0] == '>'):\n",
    "        if (id != \"\"):\n",
    "            gc_list.append(process(id, dna))\n",
    "            id = \"\"\n",
    "            dna = \"\"\n",
    "        id = line[1:-1]\n",
    "    else:\n",
    "        dna += line[:-1]\n",
    "        \n",
    "gc_list.append(process(id, dna))\n",
    "gc_list.sort(key=lambda tup: tup[1])\n",
    "highest = gc_list[-1]\n",
    "print(highest[0])\n",
    "print((\"%f\") % (highest[1] * 100))"
   ]
  },
  {
   "cell_type": "code",
   "execution_count": null,
   "metadata": {},
   "outputs": [],
   "source": []
  }
 ],
 "metadata": {
  "kernelspec": {
   "display_name": "Python 3",
   "language": "python",
   "name": "python3"
  },
  "language_info": {
   "codemirror_mode": {
    "name": "ipython",
    "version": 3
   },
   "file_extension": ".py",
   "mimetype": "text/x-python",
   "name": "python",
   "nbconvert_exporter": "python",
   "pygments_lexer": "ipython3",
   "version": "3.7.1"
  }
 },
 "nbformat": 4,
 "nbformat_minor": 2
}
