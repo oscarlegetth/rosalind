{
 "cells": [
  {
   "cell_type": "code",
   "execution_count": 24,
   "metadata": {},
   "outputs": [
    {
     "name": "stdout",
     "output_type": "stream",
     "text": [
      "0.788212\n"
     ]
    }
   ],
   "source": [
    "file = open(\"rosalind_iprb.txt\", \"r\")\n",
    "words = file.readline().split(\" \")\n",
    "# k = YY, n = Yy, m = yy\n",
    "k, n, m = int(words[0]), int(words[1]), int(words[2])\n",
    "total = k + n + m\n",
    "total_two_draws = total * (total - 1)\n",
    "#[kk] k * (k-1) / total_two_draws, YY YY -> 1/1 Y\n",
    "#[kn] k * n / total_two_draws, YY Yy -> 1/1 Y\n",
    "#[km] k * m / total_two_draws, YY YY -> 1/1 Y\n",
    "# kk kn km | 1   1    1\n",
    "# nk nn nm | 1   0.75 0.5\n",
    "# mk mn mm | 1   0.5  0\n",
    "p = ((k/total_two_draws)*((k-1)+n+m) + \n",
    "     (n/total_two_draws)*(k+(n-1)*0.75+m*0.5) +\n",
    "     (m/total_two_draws)*(k+n*0.5+m*0))\n",
    "print (\"%6f\" % p)\n"
   ]
  },
  {
   "cell_type": "code",
   "execution_count": null,
   "metadata": {},
   "outputs": [],
   "source": []
  }
 ],
 "metadata": {
  "kernelspec": {
   "display_name": "Python 3",
   "language": "python",
   "name": "python3"
  },
  "language_info": {
   "codemirror_mode": {
    "name": "ipython",
    "version": 3
   },
   "file_extension": ".py",
   "mimetype": "text/x-python",
   "name": "python",
   "nbconvert_exporter": "python",
   "pygments_lexer": "ipython3",
   "version": "3.7.1"
  }
 },
 "nbformat": 4,
 "nbformat_minor": 2
}
