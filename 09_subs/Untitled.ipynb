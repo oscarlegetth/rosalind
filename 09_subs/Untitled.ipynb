{
 "cells": [
  {
   "cell_type": "code",
   "execution_count": 26,
   "metadata": {},
   "outputs": [
    {
     "name": "stdout",
     "output_type": "stream",
     "text": [
      "5 44 60 84 91 98 105 139 156 171 197 204 242 257 291 307 367 374 381 418 466 473 561 568 646 667 682 749 809 824 889\n"
     ]
    }
   ],
   "source": [
    "file = open(\"rosalind_subs.txt\", \"r\")\n",
    "dna1 = file.readline()[:-1]\n",
    "dna2 = file.readline()[:-1]\n",
    "result = []\n",
    "for i in range(0, len(dna1)):\n",
    "    if (dna1[i] == dna2[0]):\n",
    "        found_substring = True\n",
    "        for j in range(1, len(dna2)):\n",
    "            if (i + j >= len(dna1)):\n",
    "                found_substring = False\n",
    "                break\n",
    "            try:\n",
    "                if(dna1[i + j] != dna2[j]):\n",
    "                    found_substring = False\n",
    "                    break\n",
    "            except:\n",
    "                print(i, j, len(dna1), len(dna2))\n",
    "        if found_substring:\n",
    "            result.append(i + 1)\n",
    "            \n",
    "\n",
    "file.close()\n",
    "result = map(str, result)\n",
    "print(' '.join(result))"
   ]
  },
  {
   "cell_type": "code",
   "execution_count": null,
   "metadata": {},
   "outputs": [],
   "source": []
  }
 ],
 "metadata": {
  "kernelspec": {
   "display_name": "Python 3",
   "language": "python",
   "name": "python3"
  },
  "language_info": {
   "codemirror_mode": {
    "name": "ipython",
    "version": 3
   },
   "file_extension": ".py",
   "mimetype": "text/x-python",
   "name": "python",
   "nbconvert_exporter": "python",
   "pygments_lexer": "ipython3",
   "version": "3.7.1"
  }
 },
 "nbformat": 4,
 "nbformat_minor": 2
}
