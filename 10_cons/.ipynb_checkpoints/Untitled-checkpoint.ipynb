{
 "cells": [
  {
   "cell_type": "code",
   "execution_count": 46,
   "metadata": {},
   "outputs": [
    {
     "name": "stdout",
     "output_type": "stream",
     "text": [
      "ATGCAACT\n",
      "A: 5 1 0 0 5 5 0 0 \n",
      "C: 0 0 1 4 2 0 6 1 \n",
      "G: 1 1 6 3 0 1 0 0 \n",
      "T: 1 5 0 0 0 1 1 6 \n"
     ]
    }
   ],
   "source": [
    "file = open(\"in.txt\", \"r\")\n",
    "profile = []\n",
    "nucleotides = [\"A\", \"C\", \"G\", \"T\"]\n",
    "while True:\n",
    "    rosalind_id = file.readline()[:-1]\n",
    "    dna = file.readline()[:-1]\n",
    "    if (len(profile) == 0):\n",
    "        profile = [[0, 0, 0, 0] for x in range(0, len(dna))]\n",
    "    if not rosalind_id:\n",
    "        break\n",
    "    i = 0\n",
    "    for char in dna:\n",
    "        # try:\n",
    "        profile[i][nucleotides.index(char)] += 1\n",
    "        # except:\n",
    "        #    print(profile, i, nucleotides.index(char))\n",
    "        i += 1\n",
    "        \n",
    "file.close()\n",
    "consensus = []\n",
    "for nucleotide in profile:\n",
    "    nucleotide_index = nucleotide.index(max(nucleotide))\n",
    "    consensus.append(nucleotides[nucleotide_index])\n",
    "    \n",
    "print(''.join(consensus))\n",
    "for i in range(0, len(nucleotides)):\n",
    "    s = \"\"\n",
    "    for j in range(0, len(profile)):\n",
    "        s += str(profile[j][i]) + \" \"\n",
    "    print(\"%s: %s\" % (nucleotides[i], s))"
   ]
  },
  {
   "cell_type": "code",
   "execution_count": null,
   "metadata": {},
   "outputs": [],
   "source": []
  }
 ],
 "metadata": {
  "kernelspec": {
   "display_name": "Python 3",
   "language": "python",
   "name": "python3"
  },
  "language_info": {
   "codemirror_mode": {
    "name": "ipython",
    "version": 3
   },
   "file_extension": ".py",
   "mimetype": "text/x-python",
   "name": "python",
   "nbconvert_exporter": "python",
   "pygments_lexer": "ipython3",
   "version": "3.7.1"
  }
 },
 "nbformat": 4,
 "nbformat_minor": 2
}
