{
 "cells": [
  {
   "cell_type": "code",
   "execution_count": 55,
   "metadata": {},
   "outputs": [
    {
     "name": "stdout",
     "output_type": "stream",
     "text": [
      "AAAAAGTGTAGCAATCATCCACTCACGACCCTGGAGGCGCCGTACACATTGGCCAAGAGAAGATTCAGATTATATTAATAAAAACAAAGGCCGGCAGGCCGTCTGATTCAAACCAACGGCAAAGTCAGGGTAGAAAAAGATGAGCAGGACGAAAGCGTCCGTATTGAGGGTACTGGAAGAAGAAATGTTCATAGCGCGGGACAGGCTCGTAGAATAGCACAAGGCGAAGCAGAAACACGCCCCCGACCTCGTAGGCCGATAGAACGACAAAACCGTTCCTTCTTGAAGGTAGTATAACCAACGGCTAATGAAAGCCGGGTCAAAGAACACCGAAGCTACGACTTACAAGCACAGGGGAAGGTAGACGGCGGTACCTAACGCTTATAGCCTTACCCCCTAACACTCGAACGAGAAAGCCGCCAGTTAACGAGCGAGCCGAAACCAAACATCGCTCTAAAACAAACGTTGGAGCCACAGCAGTAACTCGGCCTGAGAAACTAAAATCAAAAAGTACAACGCAACGAACCACAAAGGCGCGGACAACACAAACAACGCAAGGTTCTCCGCATACGCGTAGAAACGCATCCGTATACATAGTGTAAGTAAAGGAGATTAACCCCCGCGGCTATACATTACAACGGCACCCAGAGAACCGGACGGCCATAGTACAACGCGCAAAAAAGTGTTATATACCGGGCCTCGGTCGAGGCATACCCAAAATCCCGCACCAATTACGCACGAAGAATGCACGCCAACCAATCGCTAAACCAACCCGAACAACCACTGACGCATCCTAATTCCGCTTGCGGAAAAGGCCACAAATGCTCACAGTTGTCGCACCGAGTGCTATCGCTAACCTGCCATTAAGAACCATCGTAGAAGGCGAGAAGCTGGCAGGCCGAGCGGCTAACG\n",
      "A: 4 5 3 3 4 2 1 3 1 4 2 1 3 3 1 2 3 1 2 2 4 2 2 2 4 2 2 3 1 2 2 3 2 3 3 2 1 2 2 2 1 1 1 3 2 5 0 3 2 2 1 2 1 3 5 4 2 3 2 5 5 3 3 3 2 2 3 3 3 1 1 4 3 4 3 2 4 4 0 3 3 4 4 4 1 4 4 4 1 2 2 2 0 2 2 3 2 1 1 0 2 2 2 1 1 3 2 3 3 3 3 4 1 1 5 4 1 3 3 1 5 5 4 2 2 3 3 1 2 2 1 3 2 4 3 3 3 3 1 4 1 0 3 3 2 4 2 2 5 2 2 4 3 4 1 2 1 3 0 2 3 2 4 1 3 1 5 3 2 2 2 5 1 1 2 2 5 4 2 5 4 2 4 5 6 2 1 1 1 2 4 2 4 2 1 2 1 0 2 3 5 2 3 2 2 2 0 2 1 0 3 1 3 3 1 3 1 2 3 1 4 5 2 3 1 3 4 5 2 1 4 2 4 3 4 0 4 0 1 2 1 3 1 2 2 3 3 1 1 2 3 2 4 1 2 2 1 3 3 3 5 1 4 5 2 2 5 1 4 4 4 4 2 2 2 1 3 1 0 1 2 3 2 0 2 5 4 2 2 2 4 2 2 3 2 5 5 2 3 3 3 3 3 1 2 3 4 5 3 2 5 4 4 3 2 3 0 3 2 3 2 4 3 3 1 3 3 2 3 3 2 2 4 4 3 2 3 4 2 1 4 0 3 2 3 2 3 5 2 0 5 1 3 2 0 2 2 3 3 1 0 1 4 3 4 0 1 0 1 1 1 3 4 2 1 1 4 4 2 1 3 3 3 5 2 3 0 1 2 3 3 3 2 2 3 2 2 2 4 3 2 4 2 2 3 1 4 3 2 1 4 4 3 4 3 1 3 2 2 2 3 4 1 2 1 3 4 0 1 5 3 1 1 3 1 2 0 1 4 3 3 0 0 4 5 3 0 3 3 3 2 1 1 3 1 7 6 3 5 1 3 4 3 3 1 3 1 0 2 3 0 2 3 7 1 3 3 1 3 1 3 3 4 3 0 2 1 2 3 3 3 0 3 0 3 3 3 1 3 4 4 4 4 1 2 4 5 5 4 3 0 2 4 2 4 3 1 2 2 4 4 2 3 3 4 3 3 3 3 4 4 4 1 1 2 2 1 2 2 4 3 3 3 2 5 0 5 4 3 1 4 3 3 1 2 3 3 2 3 0 3 2 3 2 2 3 0 5 2 3 2 3 1 3 2 3 1 4 6 4 3 2 2 4 1 2 1 0 2 4 1 3 3 3 1 7 4 2 1 2 3 5 2 1 4 4 4 2 2 3 2 5 2 1 3 4 3 2 1 0 1 3 2 2 2 1 2 6 3 4 2 4 1 1 4 3 4 4 2 2 2 2 3 3 2 1 5 1 4 2 4 5 0 2 1 2 3 2 0 1 0 2 4 2 4 2 1 3 2 4 4 3 4 2 2 1 4 4 3 4 3 3 2 1 3 2 3 4 2 4 4 3 2 1 2 2 3 2 2 2 1 2 1 1 3 1 4 3 1 3 3 2 5 2 2 1 5 5 5 4 3 1 2 2 1 1 4 3 2 4 5 1 3 3 1 0 0 5 2 2 4 4 1 3 4 2 2 2 3 1 2 2 2 4 5 2 2 3 4 3 0 1 2 1 4 4 3 1 3 3 3 3 2 2 3 3 3 2 4 3 1 2 5 2 1 0 4 2 2 1 5 2 1 2 1 3 3 1 2 1 2 1 2 2 1 3 2 3 1 4 4 4 4 0 2 1 2 4 1 4 3 4 1 2 3 0 3 4 1 4 3 2 3 1 2 2 0 3 5 1 2 2 3 2 0 1 3 1 4 0 1 2 2 1 3 5 2 4 3 1 2 1 5 1 2 3 3 1 4 5 2 1 4 3 0 0 2 4 2 4 4 3 2 1 0 4 2 4 4 3 1 2 2 3 0 3 2 2 4 2 2 3 3 2 2 1 0 1 4 4 0 0 \n",
      "C: 1 1 2 3 2 2 2 0 3 1 1 5 3 2 3 3 2 2 4 4 2 3 3 3 2 5 2 2 4 3 3 1 2 3 2 1 3 3 2 4 5 3 2 1 3 2 4 2 2 2 1 1 5 4 2 2 3 3 3 2 3 1 3 0 1 3 2 3 3 3 2 2 2 0 2 3 2 2 3 2 3 1 1 1 6 2 1 3 3 2 6 5 2 1 4 3 2 3 3 4 2 1 4 2 1 2 1 2 4 3 3 1 3 5 2 2 4 1 2 5 1 2 4 1 1 4 3 3 2 1 3 3 1 0 3 1 1 1 3 3 3 2 3 2 5 1 2 1 1 4 3 2 3 1 3 3 3 3 4 3 1 2 2 3 2 3 1 0 2 2 3 0 3 1 2 2 1 2 2 1 1 1 2 2 1 2 3 3 0 3 1 0 1 1 4 3 4 2 2 1 1 4 3 1 2 4 3 3 2 3 3 2 3 2 1 2 2 4 3 5 1 3 3 2 4 1 2 2 2 4 2 1 1 2 3 5 3 4 3 3 5 4 5 4 2 3 4 5 2 4 3 3 4 3 3 3 4 1 2 1 2 3 2 1 4 2 1 3 1 2 2 3 3 3 1 2 0 4 5 2 3 4 2 3 3 3 3 1 2 1 3 2 3 2 2 3 2 3 4 3 2 4 2 2 3 1 3 2 1 2 2 2 2 1 4 4 3 1 1 2 5 2 2 3 2 3 1 4 3 4 4 2 3 2 3 5 1 3 5 2 3 4 1 1 3 3 3 2 2 4 2 4 3 2 3 2 2 2 3 1 3 3 2 0 2 4 2 4 4 3 3 2 3 5 4 4 0 2 4 2 4 2 1 3 2 1 2 4 3 1 0 3 3 3 4 4 6 2 1 2 3 3 3 3 4 2 2 3 5 1 3 0 2 2 2 0 4 3 2 3 4 2 2 1 3 2 2 4 2 2 2 5 1 3 3 3 5 1 2 3 2 4 4 2 3 1 4 3 1 4 2 4 2 4 2 2 0 3 3 4 3 1 3 4 2 1 3 0 1 2 2 3 6 1 8 3 2 4 1 0 1 3 4 5 3 4 2 2 5 4 1 2 2 1 3 2 3 3 1 4 1 2 1 3 3 4 1 0 3 1 0 2 2 4 2 3 5 1 4 2 1 4 1 1 1 5 5 3 4 1 4 4 2 2 4 2 5 1 2 4 4 3 3 4 2 4 1 1 2 4 2 2 4 1 3 3 1 0 1 2 3 4 0 3 3 1 5 2 1 2 5 1 5 2 3 2 3 2 2 1 4 1 3 1 1 5 5 3 0 2 2 3 6 3 2 2 0 1 1 1 1 1 2 1 2 2 0 1 2 1 1 3 1 2 2 1 4 4 5 4 4 0 3 2 1 5 1 2 0 2 3 1 3 2 0 5 2 2 4 2 2 4 2 5 3 5 1 4 4 2 2 1 5 6 1 0 2 4 2 1 4 3 1 2 2 2 3 2 4 4 1 4 1 4 1 5 1 3 1 0 3 3 3 2 0 1 1 0 1 3 1 1 5 3 1 3 2 3 5 2 3 3 2 3 4 2 2 0 1 4 2 3 0 3 3 4 2 1 2 1 1 4 3 4 3 5 1 4 4 2 1 3 3 2 5 3 4 1 5 3 2 2 3 3 2 3 2 4 2 6 2 3 3 2 0 5 4 3 1 2 4 1 4 1 2 2 3 4 4 3 3 5 4 5 1 3 2 4 2 2 4 3 2 6 2 3 3 5 1 3 1 1 4 3 2 2 3 1 2 4 5 2 3 1 2 0 3 1 3 2 1 2 2 2 2 4 4 1 5 3 3 1 1 2 4 2 4 3 4 3 1 3 2 2 2 3 3 4 0 3 4 2 3 1 2 3 4 2 2 2 5 3 4 3 3 3 4 5 1 2 3 6 2 2 2 3 2 0 3 0 4 5 1 2 8 4 1 2 1 2 0 2 1 4 3 2 1 4 2 1 4 2 1 3 5 3 2 2 5 3 3 2 1 4 1 3 6 3 3 2 4 2 \n",
      "G: 2 2 3 2 2 3 3 4 2 2 7 2 2 3 2 2 2 3 3 2 2 3 1 3 2 2 3 3 2 3 2 2 3 4 2 4 4 3 4 2 3 5 2 3 3 2 2 2 1 2 4 7 1 3 2 3 4 2 4 0 1 4 1 2 1 2 2 4 2 1 3 3 1 4 1 0 0 1 3 2 1 2 2 2 2 1 2 1 4 5 2 0 6 4 3 1 3 4 3 3 4 1 3 3 4 3 1 1 2 3 1 3 3 4 1 3 3 4 4 1 2 0 0 4 3 2 2 4 4 4 2 2 7 4 2 3 3 3 4 0 1 5 3 4 2 3 5 4 2 0 5 1 2 3 4 2 4 0 3 3 5 0 1 2 1 5 2 5 3 3 0 4 3 3 3 3 1 3 3 1 3 4 2 2 0 2 5 2 3 3 2 3 2 4 1 4 1 4 4 4 2 3 2 4 3 1 2 2 5 3 3 4 1 2 3 2 5 0 2 3 3 2 4 4 2 4 1 1 5 2 4 5 3 3 1 3 1 3 5 3 4 1 4 0 3 3 0 2 3 3 4 1 1 4 4 2 3 4 3 2 1 4 1 3 0 3 2 3 1 2 0 3 2 3 4 3 2 2 2 3 1 2 2 3 4 0 1 4 3 3 0 4 0 3 1 2 2 2 2 1 3 3 4 5 3 2 1 1 2 4 1 3 2 4 2 0 7 4 5 1 1 2 2 2 5 2 3 2 3 1 1 4 2 2 4 2 2 0 2 4 1 2 2 3 3 2 1 2 3 3 1 2 3 3 6 3 6 3 2 5 5 2 3 4 1 3 4 5 1 4 5 1 2 2 2 0 4 3 0 5 2 1 1 1 1 3 4 4 2 2 2 2 3 3 2 3 0 0 2 3 3 2 3 1 0 5 2 2 3 5 2 6 2 2 3 6 2 3 3 2 1 2 6 2 2 3 1 4 4 2 4 3 4 2 5 3 4 4 3 3 3 3 3 3 1 3 4 2 2 1 3 1 3 3 0 0 3 2 2 3 2 2 2 3 4 2 2 7 5 2 4 3 1 1 1 1 4 3 3 6 1 2 1 1 3 1 5 3 2 2 1 4 2 7 3 3 1 3 2 1 2 2 2 2 2 2 1 1 1 3 5 2 1 4 2 3 2 6 3 2 2 2 5 3 2 1 1 2 3 3 1 1 4 5 2 5 3 5 3 0 2 1 3 1 0 2 1 3 3 3 1 2 3 5 3 1 3 4 4 3 0 3 3 2 2 4 2 2 1 2 2 5 1 4 1 2 5 2 1 4 3 4 3 1 2 1 3 4 3 2 2 1 1 2 2 1 5 2 6 3 3 3 5 2 2 2 4 4 3 3 4 1 2 2 2 4 1 3 2 4 3 4 2 4 5 3 2 0 2 3 3 2 2 1 4 1 0 2 4 5 5 1 2 1 2 2 1 5 0 4 4 2 1 1 4 4 3 3 4 5 2 2 1 2 3 4 2 3 3 2 1 1 5 3 4 0 2 2 3 3 3 2 4 3 5 2 1 3 3 1 0 3 2 3 4 5 5 3 1 1 3 4 5 0 1 4 1 4 5 1 2 1 4 3 3 2 2 2 3 2 2 3 3 2 4 3 3 1 2 3 2 1 0 2 0 4 4 3 2 4 3 1 4 2 3 1 4 2 2 3 4 2 3 4 4 1 1 3 2 1 3 6 3 3 1 3 2 3 3 2 3 1 4 3 6 1 3 2 0 2 2 2 2 2 3 4 1 1 6 3 2 2 3 3 2 3 1 2 2 2 2 5 3 2 2 5 2 5 5 4 1 3 2 4 3 4 2 3 2 0 3 1 3 5 1 2 0 0 3 3 4 1 1 5 2 3 4 1 4 3 2 3 3 4 1 4 3 1 2 3 0 4 2 2 2 1 2 1 2 6 3 3 0 2 2 2 3 5 2 3 2 2 4 0 0 5 2 3 5 2 4 4 5 1 4 3 4 1 2 4 2 1 4 4 4 3 3 3 0 2 4 2 4 3 5 5 2 2 2 2 4 4 \n",
      "T: 3 2 2 2 2 3 4 3 4 3 0 2 2 2 4 3 3 4 1 2 2 2 4 2 2 1 3 2 3 2 3 4 3 0 3 3 2 2 2 2 1 1 5 3 2 1 4 3 5 4 4 0 3 0 1 1 1 2 1 3 1 2 3 5 6 3 3 0 2 5 4 1 4 2 4 5 4 3 4 3 3 3 3 3 1 3 3 2 2 1 0 3 2 3 1 3 3 2 3 3 2 6 1 4 4 2 6 4 1 1 3 2 3 0 2 1 2 2 1 3 2 3 2 3 4 1 2 2 2 3 4 2 0 2 2 3 3 3 2 3 5 3 1 1 1 2 1 3 2 4 0 3 2 2 2 3 2 4 3 2 1 6 3 4 4 1 2 2 3 3 5 1 3 5 3 3 3 1 3 3 2 3 2 1 3 4 1 4 6 2 3 5 3 3 4 1 4 4 2 2 2 1 2 3 3 3 5 3 2 4 1 3 3 3 5 3 2 4 2 1 2 0 1 1 3 2 3 2 1 3 0 2 2 2 2 2 2 3 1 2 0 2 0 4 3 1 3 2 4 1 0 4 1 2 1 3 2 2 2 4 2 2 3 1 4 3 2 3 4 2 4 0 3 2 3 4 5 3 3 4 4 1 4 4 1 2 2 3 3 4 3 2 5 2 5 0 1 3 1 3 2 0 1 2 2 4 2 2 4 2 2 1 2 2 2 3 0 2 2 4 2 2 3 2 2 2 3 2 1 2 3 2 1 2 0 1 4 3 1 3 2 4 4 4 1 3 3 1 3 3 2 3 1 3 1 3 0 2 2 3 2 4 1 3 3 3 3 1 4 2 1 4 1 1 3 5 2 1 4 2 1 4 5 1 5 3 4 1 3 4 5 2 2 2 1 1 2 6 3 2 2 1 2 4 3 2 2 2 0 3 1 0 3 2 2 3 1 2 3 3 2 2 1 5 4 2 3 2 3 1 1 1 4 2 1 2 1 4 1 1 2 3 3 1 1 3 2 2 4 2 3 4 4 0 7 1 1 2 0 2 2 3 2 0 3 4 4 3 2 3 4 2 0 1 0 3 1 2 3 3 5 2 1 1 4 3 2 3 0 1 5 4 3 2 1 2 3 3 4 1 3 2 3 4 3 0 3 4 2 3 5 4 3 0 2 1 2 1 1 2 3 2 1 3 3 1 1 2 0 2 1 1 3 2 2 1 1 2 3 2 1 3 1 3 3 4 3 2 2 2 3 3 0 3 2 3 3 4 2 5 4 1 4 3 3 2 3 1 6 3 1 1 3 1 4 3 1 2 1 1 0 3 2 4 6 2 1 3 5 2 5 3 0 2 5 0 1 5 2 4 3 1 1 6 2 2 2 3 3 3 3 1 5 5 3 1 2 1 2 2 2 3 3 2 2 1 5 2 5 1 2 3 4 6 2 1 4 2 0 1 1 3 3 1 3 2 3 0 2 2 0 2 4 1 4 4 2 1 4 3 4 3 4 4 1 2 4 2 1 0 4 2 0 1 3 4 3 1 3 3 1 2 1 4 2 5 5 3 4 2 5 3 1 3 3 0 0 2 2 5 3 1 2 6 2 3 3 3 3 2 3 4 1 2 2 3 1 2 0 3 4 2 2 2 2 1 2 2 2 1 2 5 4 3 4 3 2 1 1 1 1 3 2 2 1 4 2 2 3 0 2 3 2 0 1 2 3 1 3 4 3 2 1 5 3 1 2 2 0 2 1 1 0 0 0 3 2 2 4 3 3 3 1 0 4 3 2 2 1 3 2 5 2 2 5 2 3 6 4 3 1 2 2 5 5 2 3 1 1 0 4 1 2 4 3 1 2 2 2 3 1 4 5 1 2 6 3 3 2 0 2 4 4 2 4 2 3 2 1 3 2 3 1 3 7 2 0 6 2 5 4 1 2 4 2 1 2 0 4 1 2 0 3 5 4 2 2 4 1 2 2 2 1 5 2 1 5 1 2 2 2 1 2 4 3 1 3 1 2 2 3 5 3 0 1 1 3 3 1 3 1 3 2 1 2 1 2 4 1 2 2 4 \n"
     ]
    }
   ],
   "source": [
    "file = open(\"rosalind_cons.txt\", \"r\")\n",
    "profile = []\n",
    "nucleotides = [\"A\", \"C\", \"G\", \"T\"]\n",
    "rosalind_id = file.readline()[:-1]\n",
    "while True:\n",
    "    dna = file.readline()[:-1]\n",
    "    while True:\n",
    "        next_line = file.readline()[:-1]\n",
    "        if (not next_line):\n",
    "            break\n",
    "        if (next_line[0] != '>'):\n",
    "            dna += next_line\n",
    "        else:\n",
    "            break\n",
    "    if (len(profile) == 0):\n",
    "        profile = [[0, 0, 0, 0] for x in range(0, len(dna))]\n",
    "    if not dna:\n",
    "        break\n",
    "    i = 0\n",
    "    for char in dna:\n",
    "        # try:\n",
    "        profile[i][nucleotides.index(char)] += 1\n",
    "        # except:\n",
    "        #    print(profile, i, nucleotides.index(char))\n",
    "        i += 1\n",
    "        \n",
    "file.close()\n",
    "consensus = []\n",
    "for nucleotide in profile:\n",
    "    nucleotide_index = nucleotide.index(max(nucleotide))\n",
    "    consensus.append(nucleotides[nucleotide_index])\n",
    "    \n",
    "print(''.join(consensus))\n",
    "for i in range(0, len(nucleotides)):\n",
    "    s = \"\"\n",
    "    for j in range(0, len(profile)):\n",
    "        s += str(profile[j][i]) + \" \"\n",
    "    print(\"%s: %s\" % (nucleotides[i], s))\n",
    "    \n"
   ]
  },
  {
   "cell_type": "code",
   "execution_count": null,
   "metadata": {},
   "outputs": [],
   "source": []
  }
 ],
 "metadata": {
  "kernelspec": {
   "display_name": "Python 3",
   "language": "python",
   "name": "python3"
  },
  "language_info": {
   "codemirror_mode": {
    "name": "ipython",
    "version": 3
   },
   "file_extension": ".py",
   "mimetype": "text/x-python",
   "name": "python",
   "nbconvert_exporter": "python",
   "pygments_lexer": "ipython3",
   "version": "3.7.1"
  }
 },
 "nbformat": 4,
 "nbformat_minor": 2
}
