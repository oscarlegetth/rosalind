{
 "cells": [
  {
   "cell_type": "code",
   "execution_count": 24,
   "metadata": {},
   "outputs": [
    {
     "name": "stdout",
     "output_type": "stream",
     "text": [
      "134982902026855411623\n"
     ]
    }
   ],
   "source": [
    "file = open(\"rosalind_fibd.txt\", \"r\")\n",
    "line = file.readline()[:-1]\n",
    "file.close()\n",
    "words = line.split(\" \")\n",
    "n = int(words[0])\n",
    "m = int(words[1])\n",
    "# print (n, m)\n",
    "\n",
    "rabbits = [0] * m\n",
    "rabbits[0] = 1\n",
    "# [1, 0, 0 ...]\n",
    "# print(rabbits)\n",
    "for i in range(0, n - 1):\n",
    "    new_rabbits = sum(rabbits[1:])\n",
    "    for j in range(m - 1, 0, -1):\n",
    "        rabbits[j] = rabbits[j - 1]\n",
    "    rabbits[0] = new_rabbits\n",
    "print(sum(rabbits))\n"
   ]
  },
  {
   "cell_type": "code",
   "execution_count": null,
   "metadata": {},
   "outputs": [],
   "source": []
  }
 ],
 "metadata": {
  "kernelspec": {
   "display_name": "Python 3",
   "language": "python",
   "name": "python3"
  },
  "language_info": {
   "codemirror_mode": {
    "name": "ipython",
    "version": 3
   },
   "file_extension": ".py",
   "mimetype": "text/x-python",
   "name": "python",
   "nbconvert_exporter": "python",
   "pygments_lexer": "ipython3",
   "version": "3.7.1"
  }
 },
 "nbformat": 4,
 "nbformat_minor": 2
}
