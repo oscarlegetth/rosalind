{
 "cells": [
  {
   "cell_type": "code",
   "execution_count": 24,
   "metadata": {},
   "outputs": [
    {
     "name": "stdout",
     "output_type": "stream",
     "text": [
      "GGGTGGG\n"
     ]
    }
   ],
   "source": [
    "file = open(\"in.txt\", \"r\")\n",
    "suffixes = {}\n",
    "prefixes = {}\n",
    "while True:\n",
    "    rosalind_id = file.readline().strip()\n",
    "    if not rosalind_id:\n",
    "        break\n",
    "    dna = \"\"\n",
    "    while True:\n",
    "        dna += file.readline().strip()\n",
    "        if not dna:\n",
    "            break\n",
    "        pos = file.tell()\n",
    "        next_line = file.readline()[:1]\n",
    "        file.seek(pos)\n",
    "        if (not next_line or next_line == \">\"):\n",
    "            break\n",
    "file.close()"
   ]
  },
  {
   "cell_type": "code",
   "execution_count": null,
   "metadata": {},
   "outputs": [],
   "source": []
  }
 ],
 "metadata": {
  "kernelspec": {
   "display_name": "Python 3",
   "language": "python",
   "name": "python3"
  },
  "language_info": {
   "codemirror_mode": {
    "name": "ipython",
    "version": 3
   },
   "file_extension": ".py",
   "mimetype": "text/x-python",
   "name": "python",
   "nbconvert_exporter": "python",
   "pygments_lexer": "ipython3",
   "version": "3.7.1"
  }
 },
 "nbformat": 4,
 "nbformat_minor": 2
}
