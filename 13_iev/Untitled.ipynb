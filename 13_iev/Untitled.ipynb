{
 "cells": [
  {
   "cell_type": "code",
   "execution_count": 25,
   "metadata": {},
   "outputs": [
    {
     "name": "stdout",
     "output_type": "stream",
     "text": [
      "153621.0\n"
     ]
    }
   ],
   "source": [
    "from numpy import dot\n",
    "file = open(\"rosalind_iev.txt\", \"r\")\n",
    "line = file.readline().strip()\n",
    "words = line.split(\" \")\n",
    "n_pop = list(map(int, words))\n",
    "probs = [2, 2, 2, 1.5, 1, 0]\n",
    "\n",
    "print(dot(n_pop, probs))\n",
    "    \n",
    "file.close()"
   ]
  },
  {
   "cell_type": "code",
   "execution_count": null,
   "metadata": {},
   "outputs": [],
   "source": []
  }
 ],
 "metadata": {
  "kernelspec": {
   "display_name": "Python 3",
   "language": "python",
   "name": "python3"
  },
  "language_info": {
   "codemirror_mode": {
    "name": "ipython",
    "version": 3
   },
   "file_extension": ".py",
   "mimetype": "text/x-python",
   "name": "python",
   "nbconvert_exporter": "python",
   "pygments_lexer": "ipython3",
   "version": "3.7.1"
  }
 },
 "nbformat": 4,
 "nbformat_minor": 2
}
