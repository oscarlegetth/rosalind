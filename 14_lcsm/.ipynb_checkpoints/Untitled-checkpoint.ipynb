{
 "cells": [
  {
   "cell_type": "code",
   "execution_count": 16,
   "metadata": {},
   "outputs": [
    {
     "name": "stdout",
     "output_type": "stream",
     "text": [
      "GATTACA\n",
      "GATTAC\n",
      "ATTACA\n",
      "GATTA\n",
      "ATTAC\n",
      "TTACA\n",
      "GATT\n",
      "ATTA\n",
      "TTAC\n",
      "TACA\n",
      "GAT\n",
      "ATT\n",
      "TTA\n",
      "TAC\n",
      "ACA\n",
      "GA\n",
      "AT\n",
      "TT\n",
      "TA\n",
      "AC\n",
      "CA\n",
      "G\n",
      "A\n",
      "T\n",
      "T\n",
      "A\n",
      "C\n",
      "A\n"
     ]
    }
   ],
   "source": [
    "file = open(\"in.txt\", \"r\")\n",
    "longest = \"\"\n",
    "dna_list = []\n",
    "while True:\n",
    "    rosalind_id = file.readline().strip()[1:]\n",
    "    if not rosalind_id:\n",
    "        break\n",
    "    dna = \"\"\n",
    "    while True:\n",
    "        dna += file.readline().strip()\n",
    "        if not dna:\n",
    "            break\n",
    "        pos = file.tell()\n",
    "        next_line = file.readline()[:1]\n",
    "        file.seek(pos)\n",
    "        if (not next_line or next_line == \">\"):\n",
    "            break\n",
    "    dna_list.append(dna)\n",
    "    if (len(dna) > len(longest)):\n",
    "        longest = dna\n",
    "   \n",
    "file.close()\n",
    "\n",
    "for i in range(len(longest), 0, -1):\n",
    "    for j in range(0, len(longest) - i + 1):\n",
    "        sub_string = longest[j:i+j]\n",
    "        "
   ]
  },
  {
   "cell_type": "code",
   "execution_count": null,
   "metadata": {},
   "outputs": [],
   "source": []
  }
 ],
 "metadata": {
  "kernelspec": {
   "display_name": "Python 3",
   "language": "python",
   "name": "python3"
  },
  "language_info": {
   "codemirror_mode": {
    "name": "ipython",
    "version": 3
   },
   "file_extension": ".py",
   "mimetype": "text/x-python",
   "name": "python",
   "nbconvert_exporter": "python",
   "pygments_lexer": "ipython3",
   "version": "3.7.1"
  }
 },
 "nbformat": 4,
 "nbformat_minor": 2
}
