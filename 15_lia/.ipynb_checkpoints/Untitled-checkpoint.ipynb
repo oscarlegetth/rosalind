{
 "cells": [
  {
   "cell_type": "code",
   "execution_count": 16,
   "metadata": {},
   "outputs": [
    {
     "name": "stdout",
     "output_type": "stream",
     "text": [
      "k: 2, N: 1, n: 4\n",
      "0.8758934605050381\n"
     ]
    }
   ],
   "source": [
    "from scipy.stats import norm\n",
    "from math import sqrt\n",
    "\n",
    "file = open(\"in.txt\", \"r\")\n",
    "line = file.readline()[:-1]\n",
    "file.close()\n",
    "words = line.split(\" \")\n",
    "k = float(words[0])\n",
    "N = float(words[1])\n",
    "n = 2**k\n",
    "p  = 0.25\n",
    "q = 1.0 - p\n",
    "#Bin(N, p) ~= N(Np, Npq)\n",
    "#sigma((n - Np) / Npq)\n",
    "print((\"k: %d, N: %d, n: %d\") %  (k, N, n))\n",
    "cdf = norm.cdf(-((N - 1) - n*p)/sqrt(n*p*q))\n",
    "print(cdf)\n"
   ]
  },
  {
   "cell_type": "code",
   "execution_count": null,
   "metadata": {},
   "outputs": [],
   "source": []
  }
 ],
 "metadata": {
  "kernelspec": {
   "display_name": "Python 3",
   "language": "python",
   "name": "python3"
  },
  "language_info": {
   "codemirror_mode": {
    "name": "ipython",
    "version": 3
   },
   "file_extension": ".py",
   "mimetype": "text/x-python",
   "name": "python",
   "nbconvert_exporter": "python",
   "pygments_lexer": "ipython3",
   "version": "3.7.1"
  }
 },
 "nbformat": 4,
 "nbformat_minor": 2
}
