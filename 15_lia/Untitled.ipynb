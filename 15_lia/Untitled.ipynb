{
 "cells": [
  {
   "cell_type": "code",
   "execution_count": 18,
   "metadata": {
    "scrolled": true
   },
   "outputs": [
    {
     "name": "stdout",
     "output_type": "stream",
     "text": [
      "k: 6, N: 17, n: 64\n",
      "0.43335211102246113\n"
     ]
    }
   ],
   "source": [
    "from scipy.special import binom\n",
    "\n",
    "file = open(\"rosalind_lia.txt\", \"r\")\n",
    "line = file.readline()[:-1]\n",
    "file.close()\n",
    "words = line.split(\" \")\n",
    "k = float(words[0])\n",
    "N = float(words[1])\n",
    "n = 2**k\n",
    "p  = 0.25\n",
    "q = 1.0 - p\n",
    "print((\"k: %d, N: %d, n: %d\") %  (k, N, n))\n",
    "sum = 0\n",
    "for i in range(int(N), int(n + 1)):\n",
    "    sum += binom(n, i) * p ** i * q ** (n-i)\n",
    "print(sum)\n"
   ]
  },
  {
   "cell_type": "code",
   "execution_count": null,
   "metadata": {},
   "outputs": [],
   "source": []
  }
 ],
 "metadata": {
  "kernelspec": {
   "display_name": "Python 3",
   "language": "python",
   "name": "python3"
  },
  "language_info": {
   "codemirror_mode": {
    "name": "ipython",
    "version": 3
   },
   "file_extension": ".py",
   "mimetype": "text/x-python",
   "name": "python",
   "nbconvert_exporter": "python",
   "pygments_lexer": "ipython3",
   "version": "3.7.1"
  }
 },
 "nbformat": 4,
 "nbformat_minor": 2
}
