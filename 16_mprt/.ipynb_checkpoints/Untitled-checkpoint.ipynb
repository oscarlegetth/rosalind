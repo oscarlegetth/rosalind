{
 "cells": [
  {
   "cell_type": "code",
   "execution_count": 23,
   "metadata": {},
   "outputs": [
    {
     "name": "stdout",
     "output_type": "stream",
     "text": [
      "P01866_GCB_MOUSE\n",
      "185\n",
      "P02974_FMM1_NEIGO\n",
      "67 68 121\n",
      "P55067_PGCN_RAT\n",
      "121 339 737 967 1164\n",
      "P00304_ARA3_AMBEL\n",
      "41\n",
      "P04441_HG2A_MOUSE\n",
      "113 119 239 253\n",
      "P10643_CO7_HUMAN\n",
      "202 754\n",
      "Q03745\n",
      "272 438 506 509 550 1043 1096\n",
      "P00750_UROT_HUMAN\n",
      "152 219 483\n",
      "Q05865\n",
      "389\n",
      "A5GVY9\n",
      "319\n",
      "P29460_I12B_HUMAN\n",
      "125 135 222 303\n"
     ]
    }
   ],
   "source": [
    "import urllib.request\n",
    "\n",
    "inputfile = open(\"rosalind_mprt.txt\", \"r\")\n",
    "\n",
    "codons = {'P', 'Q', 'A', 'N', 'R', 'H', 'K', 'G', 'I', 'V', 'M', 'E', 'Y', 'C', 'L', 'W', 'F', 'S', 'T', 'D' }\n",
    "\n",
    "#  N{P}[ST]{P}\n",
    "\n",
    "for line in inputfile:\n",
    "    line = line.rstrip()\n",
    "    url = \"http://www.uniprot.org/uniprot/\" + line + \".fasta\"\n",
    "    response = urllib.request.urlopen(url)\n",
    "    data = response.read()      # a `bytes` object\n",
    "    text = data.decode('utf-8') # a `str`; this step can't be used if data is binary\n",
    "\n",
    "    lines = text.split(\"\\n\")\n",
    "    i = 0\n",
    "    rosalind_id = lines[i]\n",
    "    i += 1\n",
    "    while True:\n",
    "        dna = lines[i]\n",
    "        i += 1\n",
    "        while True:\n",
    "            next_line = lines[i]\n",
    "            i += 1\n",
    "            if (not next_line):\n",
    "                break\n",
    "            if (next_line[0] != '>'):\n",
    "                dna += next_line\n",
    "            else:\n",
    "                break\n",
    "\n",
    "        if i == len(lines):\n",
    "            break\n",
    "    # print(rosalind_id)\n",
    "    # print(dna)\n",
    "    found_pos = []\n",
    "    for i in range(0, len(dna) - 4):\n",
    "        if (dna[i] == 'N' and dna[i + 1] != 'P' and dna[i + 2] in 'ST' and dna[i + 3] != 'P'):\n",
    "            found_pos.append(i + 1)\n",
    "    if (len(found_pos) > 0):\n",
    "        print(line)\n",
    "        print(' '.join(map(str, found_pos)))\n",
    "\n",
    "inputfile.close()"
   ]
  },
  {
   "cell_type": "code",
   "execution_count": null,
   "metadata": {},
   "outputs": [],
   "source": []
  }
 ],
 "metadata": {
  "kernelspec": {
   "display_name": "Python 3",
   "language": "python",
   "name": "python3"
  },
  "language_info": {
   "codemirror_mode": {
    "name": "ipython",
    "version": 3
   },
   "file_extension": ".py",
   "mimetype": "text/x-python",
   "name": "python",
   "nbconvert_exporter": "python",
   "pygments_lexer": "ipython3",
   "version": "3.7.1"
  }
 },
 "nbformat": 4,
 "nbformat_minor": 2
}
