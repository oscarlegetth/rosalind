{
 "cells": [
  {
   "cell_type": "code",
   "execution_count": 20,
   "metadata": {
    "collapsed": false
   },
   "outputs": [],
   "source": [
    "codons = [\"F\",      \"L\"      ,\"I\",      \"V\",\n",
    "            \"F\",      \"L\"      ,\"I\",      \"V\",\n",
    "            \"L\",      \"L\"      ,\"I\",      \"V\",\n",
    "            \"L\",      \"L\"      ,\"M\",      \"V\",\n",
    "            \"S\",      \"P\"      ,\"T\",      \"A\",\n",
    "            \"S\",      \"P\"      ,\"T\",      \"A\",\n",
    "            \"S\",      \"P\"      ,\"T\",      \"A\",\n",
    "            \"S\",      \"P\"      ,\"T\",      \"A\",\n",
    "            \"Y\",      \"H\"      ,\"N\",      \"D\",\n",
    "            \"Y\",      \"H\"      ,\"N\",      \"D\",\n",
    "            \"Stop\",   \"Q\"      ,\"K\",      \"E\",\n",
    "            \"Stop\",   \"Q\"      ,\"K\",      \"E\",\n",
    "            \"C\",      \"R\"      ,\"S\",      \"G\",\n",
    "            \"C\",      \"R\"      ,\"S\",      \"G\",\n",
    "            \"Stop\",   \"R\"      ,\"R\",      \"G\",\n",
    "            \"W\",      \"R\"      ,\"R\",      \"G\"]\n",
    "from collections import Counter \n",
    "n_codons = Counter(codons)"
   ]
  },
  {
   "cell_type": "code",
   "execution_count": 29,
   "metadata": {
    "collapsed": false
   },
   "outputs": [
    {
     "name": "stdout",
     "output_type": "stream",
     "text": [
      "2416510539808924864980261265179424275984985263741115378119273281361710720507737008136839408466891397077580898084093612695372798251604339510570881771127738867941262661341013227517679773728164509990003212968813725941860096760410077524683186339803481444298221840735747511648003341696267548472300617146397901089190146417826743080972853297366327540029664678884881260092094099886836327313942382418954525937697845063253206499328 499328\n"
     ]
    },
    {
     "data": {
      "text/plain": [
       "1397"
      ]
     },
     "execution_count": 29,
     "metadata": {},
     "output_type": "execute_result"
    }
   ],
   "source": [
    "file = open(\"rosalind_mrna.txt\", \"r\")\n",
    "line = file.readline().rstrip()\n",
    "n_possible_dna = 1\n",
    "for c in line:\n",
    "    n_possible_dna *= n_codons[c]\n",
    "n_possible_dna *= n_codons['Stop']\n",
    "print(n_possible_dna, n_possible_dna % 1000000)\n",
    "file.close()\n"
   ]
  },
  {
   "cell_type": "code",
   "execution_count": null,
   "metadata": {
    "collapsed": true
   },
   "outputs": [],
   "source": []
  }
 ],
 "metadata": {
  "kernelspec": {
   "display_name": "Python 3",
   "language": "python",
   "name": "python3"
  },
  "language_info": {
   "codemirror_mode": {
    "name": "ipython",
    "version": 3
   },
   "file_extension": ".py",
   "mimetype": "text/x-python",
   "name": "python",
   "nbconvert_exporter": "python",
   "pygments_lexer": "ipython3",
   "version": "3.6.0"
  }
 },
 "nbformat": 4,
 "nbformat_minor": 2
}
