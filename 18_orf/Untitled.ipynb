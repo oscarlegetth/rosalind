{
 "cells": [
  {
   "cell_type": "code",
   "execution_count": 9,
   "metadata": {},
   "outputs": [
    {
     "name": "stdout",
     "output_type": "stream",
     "text": [
      "[('Rosalind_99', 'AGCCATGTAGCTAACTCAGGTTACATGGGGATGACCCCGCGACTTGGATTAGAGTCTCTTTTGGAATAAGCCTGAATGATCCGAGTAGCATCTCAG')]\n"
     ]
    },
    {
     "data": {
      "text/plain": [
       "'CTGAGATGCTACTCGGATCATTCAGGCTTATTCCAAAAGAGACTCTAATCCAAGTCGCGGGGTCATCCCCATGTAACCTGAGTTAGCTACATGGCT'"
      ]
     },
     "execution_count": 9,
     "metadata": {},
     "output_type": "execute_result"
    }
   ],
   "source": [
    "def reverse_compliment(dna):\n",
    "    rv_comp_dict = {\"A\" : \"T\", \n",
    "                    \"T\" : \"A\",\n",
    "                    \"G\" : \"C\",\n",
    "                    \"C\" : \"G\"}\n",
    "    rv_comp = []\n",
    "    for c in dna:\n",
    "        rv_comp.append(rv_comp_dict[c])\n",
    "    return ''.join(rv_comp[::-1])\n",
    "\n",
    "def transcribe_to_protein(dna):\n",
    "    i = 0\n",
    "    \n",
    "\n",
    "dna_prot_codon = { 'TTT': 'F', 'CTT': 'L', 'ATT': 'I', 'GTT': 'V',\n",
    "                   'TTC': 'F', 'CTC': 'L', 'ATC': 'I', 'GTC': 'V',\n",
    "                   'TTA': 'L', 'CTA': 'L', 'ATA': 'I', 'GTA': 'V',\n",
    "                   'TTG': 'L', 'CTG': 'L', 'ATG': 'M', 'GTG': 'V',\n",
    "                   'TCT': 'S', 'CCT': 'P', 'ACT': 'T', 'GCT': 'A',\n",
    "                   'TCC': 'S', 'CCC': 'P', 'ACC': 'T', 'GCC': 'A',\n",
    "                   'TCA': 'S', 'CCA': 'P', 'ACA': 'T', 'GCA': 'A',\n",
    "                   'TCG': 'S', 'CCG': 'P', 'ACG': 'T', 'GCG': 'A',\n",
    "                   'TAT': 'Y', 'CAT': 'H', 'AAT': 'N', 'GAT': 'D',\n",
    "                   'TAC': 'Y', 'CAC': 'H', 'AAC': 'N', 'GAC': 'D',\n",
    "                   'TAA': 'Stop', 'CAA': 'Q', 'AAA': 'K', 'GAA': 'E',\n",
    "                   'TAG': 'Stop', 'CAG': 'Q', 'AAG': 'K', 'GAG': 'E',\n",
    "                   'TGT': 'C', 'CGT': 'R', 'AGT': 'S', 'GGT': 'G',\n",
    "                   'TGC': 'C', 'CGC': 'R', 'AGC': 'S', 'GGC': 'G',\n",
    "                   'TGA': 'Stop', 'CGA': 'R', 'AGA': 'R', 'GGA': 'G',\n",
    "                   'TGG': 'W', 'CGG': 'R', 'AGG': 'R', 'GGG': 'G' }\n",
    "                    \n",
    "file = open(\"in.txt\", \"r\")\n",
    "rosalind_id_list = []\n",
    "dna_list = []\n",
    "while True:\n",
    "    rosalind_id = file.readline().rstrip()[1:]\n",
    "    if not rosalind_id:\n",
    "        break\n",
    "    rosalind_id_list.append(rosalind_id)\n",
    "\n",
    "    dna = \"\"\n",
    "    while True:\n",
    "        dna += file.readline().strip()\n",
    "        if not dna:\n",
    "            break\n",
    "        pos = file.tell()\n",
    "        next_line = file.readline().rstrip()\n",
    "        file.seek(pos)\n",
    "        if (not next_line or next_line[0] == \">\"):\n",
    "            break\n",
    "    dna_list.append(dna)\n",
    "    \n",
    "file.close()\n",
    "print(list(zip(rosalind_id_list, dna_list)))\n",
    "\n",
    "rosalind_id = rosalind_id_list[0]\n",
    "dna = dna_list[0]\n",
    "rv_comp = reverse_compliment(dna)\n",
    "\n",
    "result = {}\n"
   ]
  },
  {
   "cell_type": "code",
   "execution_count": null,
   "metadata": {},
   "outputs": [],
   "source": []
  }
 ],
 "metadata": {
  "kernelspec": {
   "display_name": "Python 3",
   "language": "python",
   "name": "python3"
  },
  "language_info": {
   "codemirror_mode": {
    "name": "ipython",
    "version": 3
   },
   "file_extension": ".py",
   "mimetype": "text/x-python",
   "name": "python",
   "nbconvert_exporter": "python",
   "pygments_lexer": "ipython3",
   "version": "3.7.1"
  }
 },
 "nbformat": 4,
 "nbformat_minor": 2
}
