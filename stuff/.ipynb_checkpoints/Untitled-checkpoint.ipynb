{
 "cells": [
  {
   "cell_type": "markdown",
   "metadata": {},
   "source": [
    "## Read a .fasta file"
   ]
  },
  {
   "cell_type": "code",
   "execution_count": 17,
   "metadata": {},
   "outputs": [
    {
     "name": "stdout",
     "output_type": "stream",
     "text": [
      "[('Rosalind_99', 'AGCCATGTAGCTAACTCAGGTTACATGGGGATGACCCCGCGACTTGGATTAGAGTCTCTTTTGGAATAAGCCTGAATGATCCGAGTAGCATCTCAG'), ('Rosalind_991', 'AGCCATGTAGCTAACTCAGGTTACATGGGGATGACCCCGCGACTTGGATTAGAGTCTCTTTTGGAATAAGCCTGAATGATCCGAGTAGCATCTCAG'), ('Rosalind_992', 'AGCCATGTAGCTAACTCAGGTTACATGGGGATGACCCCGCGACTTGGATTAGAGTCTCTTTTGGAATAAGCCTGAATGATCCGAGTAGCATCTCAG'), ('Rosalind_993', 'AGCCATGTAGCTAACTCAGGTTACATGGGGATGACCCCGCGACTTGGATTAGAGTCTCTTTTGGAATAAGCCTGAATGATCCGAGTAGCATCTCAG'), ('Rosalind_994', 'AGCCATGTAGCTAACTCAGGTTACATGGGGATGACCCCGCGACTTGGATTAGAGTCTCTTTTGGAATAAGCCTGAATGATCCGAGTAGCATCTCAG'), ('Rosalind_995', 'AGCCATGTAGCTAACTCAGGTTACATGGGGATGACCCCGCGACTTGGATTAGAGTCTCTTTTGGAATAAGCCTGAATGATCCGAGTAGCATCTCAG')]\n"
     ]
    }
   ],
   "source": [
    "file = open(\"in.txt\", \"r\")\n",
    "rosalind_id_list = []\n",
    "dna_list = []\n",
    "while True:\n",
    "    rosalind_id = file.readline().rstrip()[1:]\n",
    "    if not rosalind_id:\n",
    "        break\n",
    "    rosalind_id_list.append(rosalind_id)\n",
    "\n",
    "    dna = \"\"\n",
    "    while True:\n",
    "        dna += file.readline().strip()\n",
    "        if not dna:\n",
    "            break\n",
    "        pos = file.tell()\n",
    "        next_line = file.readline().rstrip()\n",
    "        file.seek(pos)\n",
    "        if (not next_line or next_line[0] == \">\"):\n",
    "            break\n",
    "    dna_list.append(dna)\n",
    "\n",
    "file.close()\n",
    "\n",
    "# results are now in rosalind_id_list and dna_list\n",
    "print(list(zip(rosalind_id_list, dna_list)))\n"
   ]
  },
  {
   "cell_type": "markdown",
   "metadata": {},
   "source": [
    "## DNA and RNA codon table"
   ]
  },
  {
   "cell_type": "code",
   "execution_count": 20,
   "metadata": {},
   "outputs": [
    {
     "data": {
      "text/plain": [
       "{'TTT': 'F',\n",
       " 'CTT': 'L',\n",
       " 'ATT': 'I',\n",
       " 'GTT': 'V',\n",
       " 'TTC': 'F',\n",
       " 'CTC': 'L',\n",
       " 'ATC': 'I',\n",
       " 'GTC': 'V',\n",
       " 'TTA': 'L',\n",
       " 'CTA': 'L',\n",
       " 'ATA': 'I',\n",
       " 'GTA': 'V',\n",
       " 'TTG': 'L',\n",
       " 'CTG': 'L',\n",
       " 'ATG': 'M',\n",
       " 'GTG': 'V',\n",
       " 'TCT': 'S',\n",
       " 'CCT': 'P',\n",
       " 'ACT': 'T',\n",
       " 'GCT': 'A',\n",
       " 'TCC': 'S',\n",
       " 'CCC': 'P',\n",
       " 'ACC': 'T',\n",
       " 'GCC': 'A',\n",
       " 'TCA': 'S',\n",
       " 'CCA': 'P',\n",
       " 'ACA': 'T',\n",
       " 'GCA': 'A',\n",
       " 'TCG': 'S',\n",
       " 'CCG': 'P',\n",
       " 'ACG': 'T',\n",
       " 'GCG': 'A',\n",
       " 'TAT': 'Y',\n",
       " 'CAT': 'H',\n",
       " 'AAT': 'N',\n",
       " 'GAT': 'D',\n",
       " 'TAC': 'Y',\n",
       " 'CAC': 'H',\n",
       " 'AAC': 'N',\n",
       " 'GAC': 'D',\n",
       " 'TAA': 'Stop',\n",
       " 'CAA': 'Q',\n",
       " 'AAA': 'K',\n",
       " 'GAA': 'E',\n",
       " 'TAG': 'Stop',\n",
       " 'CAG': 'Q',\n",
       " 'AAG': 'K',\n",
       " 'GAG': 'E',\n",
       " 'TGT': 'C',\n",
       " 'CGT': 'R',\n",
       " 'AGT': 'S',\n",
       " 'GGT': 'G',\n",
       " 'TGC': 'C',\n",
       " 'CGC': 'R',\n",
       " 'AGC': 'S',\n",
       " 'GGC': 'G',\n",
       " 'TGA': 'Stop',\n",
       " 'CGA': 'R',\n",
       " 'AGA': 'R',\n",
       " 'GGA': 'G',\n",
       " 'TGG': 'W',\n",
       " 'CGG': 'R',\n",
       " 'AGG': 'R',\n",
       " 'GGG': 'G'}"
      ]
     },
     "execution_count": 20,
     "metadata": {},
     "output_type": "execute_result"
    }
   ],
   "source": [
    "rna_prot_codon = { \"UUU\": \"F\"     , \"CUU\": \"L\"     ,\"AUU\": \"I\"      ,\"GUU\": \"V\",\n",
    "                  \"UUC\": \"F\"     , \"CUC\": \"L\"     ,\"AUC\": \"I\"      ,\"GUC\": \"V\",\n",
    "                  \"UUA\": \"L\"     , \"CUA\": \"L\"     ,\"AUA\": \"I\"      ,\"GUA\": \"V\",\n",
    "                  \"UUG\": \"L\"     , \"CUG\": \"L\"     ,\"AUG\": \"M\"      ,\"GUG\": \"V\",\n",
    "                  \"UCU\": \"S\"     , \"CCU\": \"P\"     ,\"ACU\": \"T\"      ,\"GCU\": \"A\",\n",
    "                  \"UCC\": \"S\"     , \"CCC\": \"P\"     ,\"ACC\": \"T\"      ,\"GCC\": \"A\",\n",
    "                  \"UCA\": \"S\"     , \"CCA\": \"P\"     ,\"ACA\": \"T\"      ,\"GCA\": \"A\",\n",
    "                  \"UCG\": \"S\"     , \"CCG\": \"P\"     ,\"ACG\": \"T\"      ,\"GCG\": \"A\",\n",
    "                  \"UAU\": \"Y\"     , \"CAU\": \"H\"     ,\"AAU\": \"N\"      ,\"GAU\": \"D\",\n",
    "                  \"UAC\": \"Y\"     , \"CAC\": \"H\"     ,\"AAC\": \"N\"      ,\"GAC\": \"D\",\n",
    "                  \"UAA\": \"Stop\"  , \"CAA\": \"Q\"     ,\"AAA\": \"K\"      ,\"GAA\": \"E\",\n",
    "                  \"UAG\": \"Stop\"  , \"CAG\": \"Q\"     ,\"AAG\": \"K\"      ,\"GAG\": \"E\",\n",
    "                  \"UGU\": \"C\"     , \"CGU\": \"R\"     ,\"AGU\": \"S\"      ,\"GGU\": \"G\",\n",
    "                  \"UGC\": \"C\"     , \"CGC\": \"R\"     ,\"AGC\": \"S\"      ,\"GGC\": \"G\",\n",
    "                  \"UGA\": \"Stop\"  , \"CGA\": \"R\"     ,\"AGA\": \"R\"      ,\"GGA\": \"G\",\n",
    "                  \"UGG\": \"W\"     , \"CGG\": \"R\"     ,\"AGG\": \"R\"      ,\"GGG\": \"G\"}\n",
    "\n",
    "dna_prot_codon = { 'TTT': 'F', 'CTT': 'L', 'ATT': 'I', 'GTT': 'V',\n",
    "                   'TTC': 'F', 'CTC': 'L', 'ATC': 'I', 'GTC': 'V',\n",
    "                   'TTA': 'L', 'CTA': 'L', 'ATA': 'I', 'GTA': 'V',\n",
    "                   'TTG': 'L', 'CTG': 'L', 'ATG': 'M', 'GTG': 'V',\n",
    "                   'TCT': 'S', 'CCT': 'P', 'ACT': 'T', 'GCT': 'A',\n",
    "                   'TCC': 'S', 'CCC': 'P', 'ACC': 'T', 'GCC': 'A',\n",
    "                   'TCA': 'S', 'CCA': 'P', 'ACA': 'T', 'GCA': 'A',\n",
    "                   'TCG': 'S', 'CCG': 'P', 'ACG': 'T', 'GCG': 'A',\n",
    "                   'TAT': 'Y', 'CAT': 'H', 'AAT': 'N', 'GAT': 'D',\n",
    "                   'TAC': 'Y', 'CAC': 'H', 'AAC': 'N', 'GAC': 'D',\n",
    "                   'TAA': 'Stop', 'CAA': 'Q', 'AAA': 'K', 'GAA': 'E',\n",
    "                   'TAG': 'Stop', 'CAG': 'Q', 'AAG': 'K', 'GAG': 'E',\n",
    "                   'TGT': 'C', 'CGT': 'R', 'AGT': 'S', 'GGT': 'G',\n",
    "                   'TGC': 'C', 'CGC': 'R', 'AGC': 'S', 'GGC': 'G',\n",
    "                   'TGA': 'Stop', 'CGA': 'R', 'AGA': 'R', 'GGA': 'G',\n",
    "                   'TGG': 'W', 'CGG': 'R', 'AGG': 'R', 'GGG': 'G' }\n"
   ]
  },
  {
   "cell_type": "code",
   "execution_count": null,
   "metadata": {},
   "outputs": [],
   "source": []
  }
 ],
 "metadata": {
  "kernelspec": {
   "display_name": "Python 3",
   "language": "python",
   "name": "python3"
  },
  "language_info": {
   "codemirror_mode": {
    "name": "ipython",
    "version": 3
   },
   "file_extension": ".py",
   "mimetype": "text/x-python",
   "name": "python",
   "nbconvert_exporter": "python",
   "pygments_lexer": "ipython3",
   "version": "3.7.1"
  }
 },
 "nbformat": 4,
 "nbformat_minor": 2
}
